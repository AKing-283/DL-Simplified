{
 "cells": [
  {
   "cell_type": "markdown",
   "metadata": {},
   "source": [
    "# Importing Basic Libraries"
   ]
  },
  {
   "cell_type": "code",
   "execution_count": 102,
   "metadata": {
    "execution": {
     "iopub.execute_input": "2024-05-29T17:16:04.552950Z",
     "iopub.status.busy": "2024-05-29T17:16:04.552494Z",
     "iopub.status.idle": "2024-05-29T17:16:04.557475Z",
     "shell.execute_reply": "2024-05-29T17:16:04.556548Z",
     "shell.execute_reply.started": "2024-05-29T17:16:04.552919Z"
    }
   },
   "outputs": [],
   "source": [
    "import pandas as pd\n",
    "import numpy as np\n",
    "import matplotlib.pyplot as plt"
   ]
  },
  {
   "cell_type": "markdown",
   "metadata": {
    "_cell_guid": "b1076dfc-b9ad-4769-8c92-a6c4dae69d19",
    "_uuid": "8f2839f25d086af736a60e9eeb907d3b93b6e0e5"
   },
   "source": [
    "# Importing Dataset"
   ]
  },
  {
   "cell_type": "code",
   "execution_count": 103,
   "metadata": {
    "execution": {
     "iopub.execute_input": "2024-05-29T17:16:04.590584Z",
     "iopub.status.busy": "2024-05-29T17:16:04.590329Z",
     "iopub.status.idle": "2024-05-29T17:16:18.755908Z",
     "shell.execute_reply": "2024-05-29T17:16:18.754837Z",
     "shell.execute_reply.started": "2024-05-29T17:16:04.590563Z"
    }
   },
   "outputs": [],
   "source": [
    "data = pd.read_csv(\"/kaggle/input/ai-vs-human-text/AI_Human.csv\")"
   ]
  },
  {
   "cell_type": "code",
   "execution_count": 104,
   "metadata": {
    "execution": {
     "iopub.execute_input": "2024-05-29T17:16:18.758474Z",
     "iopub.status.busy": "2024-05-29T17:16:18.758089Z",
     "iopub.status.idle": "2024-05-29T17:16:18.769434Z",
     "shell.execute_reply": "2024-05-29T17:16:18.768311Z",
     "shell.execute_reply.started": "2024-05-29T17:16:18.758440Z"
    }
   },
   "outputs": [
    {
     "data": {
      "text/html": [
       "<div>\n",
       "<style scoped>\n",
       "    .dataframe tbody tr th:only-of-type {\n",
       "        vertical-align: middle;\n",
       "    }\n",
       "\n",
       "    .dataframe tbody tr th {\n",
       "        vertical-align: top;\n",
       "    }\n",
       "\n",
       "    .dataframe thead th {\n",
       "        text-align: right;\n",
       "    }\n",
       "</style>\n",
       "<table border=\"1\" class=\"dataframe\">\n",
       "  <thead>\n",
       "    <tr style=\"text-align: right;\">\n",
       "      <th></th>\n",
       "      <th>text</th>\n",
       "      <th>generated</th>\n",
       "    </tr>\n",
       "  </thead>\n",
       "  <tbody>\n",
       "    <tr>\n",
       "      <th>0</th>\n",
       "      <td>Cars. Cars have been around since they became ...</td>\n",
       "      <td>0.0</td>\n",
       "    </tr>\n",
       "    <tr>\n",
       "      <th>1</th>\n",
       "      <td>Transportation is a large necessity in most co...</td>\n",
       "      <td>0.0</td>\n",
       "    </tr>\n",
       "    <tr>\n",
       "      <th>2</th>\n",
       "      <td>\"America's love affair with it's vehicles seem...</td>\n",
       "      <td>0.0</td>\n",
       "    </tr>\n",
       "    <tr>\n",
       "      <th>3</th>\n",
       "      <td>How often do you ride in a car? Do you drive a...</td>\n",
       "      <td>0.0</td>\n",
       "    </tr>\n",
       "    <tr>\n",
       "      <th>4</th>\n",
       "      <td>Cars are a wonderful thing. They are perhaps o...</td>\n",
       "      <td>0.0</td>\n",
       "    </tr>\n",
       "  </tbody>\n",
       "</table>\n",
       "</div>"
      ],
      "text/plain": [
       "                                                text  generated\n",
       "0  Cars. Cars have been around since they became ...        0.0\n",
       "1  Transportation is a large necessity in most co...        0.0\n",
       "2  \"America's love affair with it's vehicles seem...        0.0\n",
       "3  How often do you ride in a car? Do you drive a...        0.0\n",
       "4  Cars are a wonderful thing. They are perhaps o...        0.0"
      ]
     },
     "execution_count": 104,
     "metadata": {},
     "output_type": "execute_result"
    }
   ],
   "source": [
    "data.head(5)"
   ]
  },
  {
   "cell_type": "markdown",
   "metadata": {},
   "source": [
    "# Values Mapping\n",
    "###  0 : Human \n",
    "###  1 : AI"
   ]
  },
  {
   "cell_type": "markdown",
   "metadata": {},
   "source": [
    "# Function to Plot the Performance of the model"
   ]
  },
  {
   "cell_type": "code",
   "execution_count": 142,
   "metadata": {
    "execution": {
     "iopub.execute_input": "2024-05-29T17:27:39.587207Z",
     "iopub.status.busy": "2024-05-29T17:27:39.586767Z",
     "iopub.status.idle": "2024-05-29T17:27:39.595885Z",
     "shell.execute_reply": "2024-05-29T17:27:39.594747Z",
     "shell.execute_reply.started": "2024-05-29T17:27:39.587175Z"
    }
   },
   "outputs": [],
   "source": [
    "\n",
    "def plot_graph(history):\n",
    "    fig, ax = plt.subplots(1, 2, figsize=(12, 5))  # Create a figure with 1 row and 2 columns\n",
    "\n",
    "    # Plot training & validation accuracy values\n",
    "    ax[0].plot(history.history['accuracy'])\n",
    "    ax[0].plot(history.history['val_accuracy'])\n",
    "    ax[0].set_title('Model accuracy')\n",
    "    ax[0].set_ylabel('Accuracy')\n",
    "    ax[0].set_xlabel('Epoch')\n",
    "    ax[0].legend(['Train', 'Validation'], loc='upper left')\n",
    "\n",
    "    # Plot training & validation loss values\n",
    "    ax[1].plot(history.history['loss'])\n",
    "    ax[1].plot(history.history['val_loss'])\n",
    "    ax[1].set_title('Model loss')\n",
    "    ax[1].set_ylabel('Loss')\n",
    "    ax[1].set_xlabel('Epoch')\n",
    "    ax[1].legend(['Train', 'Validation'], loc='upper left')\n",
    "\n",
    "    plt.tight_layout()\n",
    "    plt.show()\n"
   ]
  },
  {
   "cell_type": "markdown",
   "metadata": {},
   "source": [
    "# Exploratory Data Analysis(EDA)"
   ]
  },
  {
   "cell_type": "code",
   "execution_count": 106,
   "metadata": {
    "execution": {
     "iopub.execute_input": "2024-05-29T17:16:18.785138Z",
     "iopub.status.busy": "2024-05-29T17:16:18.784804Z",
     "iopub.status.idle": "2024-05-29T17:16:18.801879Z",
     "shell.execute_reply": "2024-05-29T17:16:18.800769Z",
     "shell.execute_reply.started": "2024-05-29T17:16:18.785113Z"
    }
   },
   "outputs": [
    {
     "data": {
      "text/plain": [
       "generated\n",
       "0.0    305797\n",
       "1.0    181438\n",
       "Name: count, dtype: int64"
      ]
     },
     "execution_count": 106,
     "metadata": {},
     "output_type": "execute_result"
    }
   ],
   "source": [
    "data.generated.value_counts()"
   ]
  },
  {
   "cell_type": "code",
   "execution_count": 107,
   "metadata": {
    "execution": {
     "iopub.execute_input": "2024-05-29T17:16:18.803528Z",
     "iopub.status.busy": "2024-05-29T17:16:18.803232Z",
     "iopub.status.idle": "2024-05-29T17:16:18.859067Z",
     "shell.execute_reply": "2024-05-29T17:16:18.858274Z",
     "shell.execute_reply.started": "2024-05-29T17:16:18.803503Z"
    }
   },
   "outputs": [],
   "source": [
    "human_text = data[data['generated']==0]\n",
    "ai_text = data[data['generated']!=0]"
   ]
  },
  {
   "cell_type": "code",
   "execution_count": 108,
   "metadata": {
    "execution": {
     "iopub.execute_input": "2024-05-29T17:16:18.860559Z",
     "iopub.status.busy": "2024-05-29T17:16:18.860211Z",
     "iopub.status.idle": "2024-05-29T17:16:18.872288Z",
     "shell.execute_reply": "2024-05-29T17:16:18.871340Z",
     "shell.execute_reply.started": "2024-05-29T17:16:18.860515Z"
    }
   },
   "outputs": [
    {
     "name": "stdout",
     "output_type": "stream",
     "text": [
      "generated\n",
      "0.0    305797\n",
      "Name: count, dtype: int64\n",
      "generated\n",
      "1.0    181438\n",
      "Name: count, dtype: int64\n"
     ]
    }
   ],
   "source": [
    "print(human_text.generated.value_counts())\n",
    "print(ai_text.generated.value_counts())"
   ]
  },
  {
   "cell_type": "code",
   "execution_count": 109,
   "metadata": {
    "execution": {
     "iopub.execute_input": "2024-05-29T17:16:18.873862Z",
     "iopub.status.busy": "2024-05-29T17:16:18.873493Z",
     "iopub.status.idle": "2024-05-29T17:16:18.884971Z",
     "shell.execute_reply": "2024-05-29T17:16:18.884170Z",
     "shell.execute_reply.started": "2024-05-29T17:16:18.873828Z"
    }
   },
   "outputs": [],
   "source": [
    "balanced_data = pd.concat([human_text[:25000],ai_text[:25000]],ignore_index=True)\n"
   ]
  },
  {
   "cell_type": "code",
   "execution_count": 110,
   "metadata": {
    "execution": {
     "iopub.execute_input": "2024-05-29T17:16:18.886519Z",
     "iopub.status.busy": "2024-05-29T17:16:18.886194Z",
     "iopub.status.idle": "2024-05-29T17:16:18.899644Z",
     "shell.execute_reply": "2024-05-29T17:16:18.898850Z",
     "shell.execute_reply.started": "2024-05-29T17:16:18.886486Z"
    }
   },
   "outputs": [
    {
     "data": {
      "text/plain": [
       "generated\n",
       "0.0    25000\n",
       "1.0    25000\n",
       "Name: count, dtype: int64"
      ]
     },
     "execution_count": 110,
     "metadata": {},
     "output_type": "execute_result"
    }
   ],
   "source": [
    "balanced_data.generated.value_counts()"
   ]
  },
  {
   "cell_type": "code",
   "execution_count": 111,
   "metadata": {
    "execution": {
     "iopub.execute_input": "2024-05-29T17:16:18.901084Z",
     "iopub.status.busy": "2024-05-29T17:16:18.900707Z",
     "iopub.status.idle": "2024-05-29T17:16:18.917409Z",
     "shell.execute_reply": "2024-05-29T17:16:18.916576Z",
     "shell.execute_reply.started": "2024-05-29T17:16:18.901048Z"
    }
   },
   "outputs": [
    {
     "data": {
      "text/html": [
       "<div>\n",
       "<style scoped>\n",
       "    .dataframe tbody tr th:only-of-type {\n",
       "        vertical-align: middle;\n",
       "    }\n",
       "\n",
       "    .dataframe tbody tr th {\n",
       "        vertical-align: top;\n",
       "    }\n",
       "\n",
       "    .dataframe thead th {\n",
       "        text-align: right;\n",
       "    }\n",
       "</style>\n",
       "<table border=\"1\" class=\"dataframe\">\n",
       "  <thead>\n",
       "    <tr style=\"text-align: right;\">\n",
       "      <th></th>\n",
       "      <th>text</th>\n",
       "      <th>generated</th>\n",
       "    </tr>\n",
       "  </thead>\n",
       "  <tbody>\n",
       "    <tr>\n",
       "      <th>0</th>\n",
       "      <td>Cars. Cars have been around since they became ...</td>\n",
       "      <td>0.0</td>\n",
       "    </tr>\n",
       "    <tr>\n",
       "      <th>1</th>\n",
       "      <td>Transportation is a large necessity in most co...</td>\n",
       "      <td>0.0</td>\n",
       "    </tr>\n",
       "    <tr>\n",
       "      <th>2</th>\n",
       "      <td>\"America's love affair with it's vehicles seem...</td>\n",
       "      <td>0.0</td>\n",
       "    </tr>\n",
       "  </tbody>\n",
       "</table>\n",
       "</div>"
      ],
      "text/plain": [
       "                                                text  generated\n",
       "0  Cars. Cars have been around since they became ...        0.0\n",
       "1  Transportation is a large necessity in most co...        0.0\n",
       "2  \"America's love affair with it's vehicles seem...        0.0"
      ]
     },
     "execution_count": 111,
     "metadata": {},
     "output_type": "execute_result"
    }
   ],
   "source": [
    "balanced_data.head(3)"
   ]
  },
  {
   "cell_type": "code",
   "execution_count": 112,
   "metadata": {
    "execution": {
     "iopub.execute_input": "2024-05-29T17:16:18.921492Z",
     "iopub.status.busy": "2024-05-29T17:16:18.921225Z",
     "iopub.status.idle": "2024-05-29T17:16:18.937392Z",
     "shell.execute_reply": "2024-05-29T17:16:18.936498Z",
     "shell.execute_reply.started": "2024-05-29T17:16:18.921470Z"
    }
   },
   "outputs": [
    {
     "data": {
      "text/plain": [
       "text         0\n",
       "generated    0\n",
       "dtype: int64"
      ]
     },
     "execution_count": 112,
     "metadata": {},
     "output_type": "execute_result"
    }
   ],
   "source": [
    "# Checking for null values\n",
    "balanced_data.isnull().sum()"
   ]
  },
  {
   "cell_type": "markdown",
   "metadata": {},
   "source": [
    "# Data Preprocessing"
   ]
  },
  {
   "cell_type": "code",
   "execution_count": 143,
   "metadata": {
    "execution": {
     "iopub.execute_input": "2024-05-29T17:27:47.195300Z",
     "iopub.status.busy": "2024-05-29T17:27:47.194303Z",
     "iopub.status.idle": "2024-05-29T17:27:47.199497Z",
     "shell.execute_reply": "2024-05-29T17:27:47.198346Z",
     "shell.execute_reply.started": "2024-05-29T17:27:47.195263Z"
    }
   },
   "outputs": [],
   "source": [
    "import re"
   ]
  },
  {
   "cell_type": "code",
   "execution_count": 114,
   "metadata": {
    "execution": {
     "iopub.execute_input": "2024-05-29T17:16:18.946279Z",
     "iopub.status.busy": "2024-05-29T17:16:18.946048Z",
     "iopub.status.idle": "2024-05-29T17:16:18.955435Z",
     "shell.execute_reply": "2024-05-29T17:16:18.954573Z",
     "shell.execute_reply.started": "2024-05-29T17:16:18.946259Z"
    }
   },
   "outputs": [],
   "source": [
    "def clean_text(text):\n",
    "    text = re.sub(r'\\\\n', ' ', text)  # Remove newline characters\n",
    "    text = re.sub(r'\\\\', '', text)  # Remove backslashes\n",
    "    text = re.sub(r'\\.{3}', '', text)  # Remove ellipses\n",
    "    text = re.sub(r'[\".,:!]', '', text)  # Remove specific punctuation marks\n",
    "    text = re.sub(r\"(?<!\\w)\\'|\\'(?!\\w)\", '', text)  # Remove apostrophes that are not part of a word\n",
    "    text = re.sub(r'\\s+', ' ', text)  # Remove extra spaces\n",
    "    return text\n"
   ]
  },
  {
   "cell_type": "code",
   "execution_count": 115,
   "metadata": {
    "execution": {
     "iopub.execute_input": "2024-05-29T17:16:18.956683Z",
     "iopub.status.busy": "2024-05-29T17:16:18.956436Z",
     "iopub.status.idle": "2024-05-29T17:16:18.965305Z",
     "shell.execute_reply": "2024-05-29T17:16:18.964385Z",
     "shell.execute_reply.started": "2024-05-29T17:16:18.956653Z"
    }
   },
   "outputs": [],
   "source": [
    "def preprocess_text(text):\n",
    "    text = text.lower()  # lowercase the text\n",
    "    return text"
   ]
  },
  {
   "cell_type": "code",
   "execution_count": 116,
   "metadata": {
    "execution": {
     "iopub.execute_input": "2024-05-29T17:16:18.966860Z",
     "iopub.status.busy": "2024-05-29T17:16:18.966518Z",
     "iopub.status.idle": "2024-05-29T17:16:45.927927Z",
     "shell.execute_reply": "2024-05-29T17:16:45.927088Z",
     "shell.execute_reply.started": "2024-05-29T17:16:18.966831Z"
    }
   },
   "outputs": [],
   "source": [
    "balanced_data['text'] = balanced_data['text'].apply(clean_text)"
   ]
  },
  {
   "cell_type": "code",
   "execution_count": 117,
   "metadata": {
    "execution": {
     "iopub.execute_input": "2024-05-29T17:16:45.929676Z",
     "iopub.status.busy": "2024-05-29T17:16:45.929364Z",
     "iopub.status.idle": "2024-05-29T17:16:46.242213Z",
     "shell.execute_reply": "2024-05-29T17:16:46.241346Z",
     "shell.execute_reply.started": "2024-05-29T17:16:45.929650Z"
    }
   },
   "outputs": [],
   "source": [
    "balanced_data['text'] = balanced_data['text'].apply(preprocess_text)"
   ]
  },
  {
   "cell_type": "code",
   "execution_count": 118,
   "metadata": {
    "execution": {
     "iopub.execute_input": "2024-05-29T17:16:46.244403Z",
     "iopub.status.busy": "2024-05-29T17:16:46.244097Z",
     "iopub.status.idle": "2024-05-29T17:16:46.255020Z",
     "shell.execute_reply": "2024-05-29T17:16:46.253911Z",
     "shell.execute_reply.started": "2024-05-29T17:16:46.244377Z"
    }
   },
   "outputs": [
    {
     "data": {
      "text/html": [
       "<div>\n",
       "<style scoped>\n",
       "    .dataframe tbody tr th:only-of-type {\n",
       "        vertical-align: middle;\n",
       "    }\n",
       "\n",
       "    .dataframe tbody tr th {\n",
       "        vertical-align: top;\n",
       "    }\n",
       "\n",
       "    .dataframe thead th {\n",
       "        text-align: right;\n",
       "    }\n",
       "</style>\n",
       "<table border=\"1\" class=\"dataframe\">\n",
       "  <thead>\n",
       "    <tr style=\"text-align: right;\">\n",
       "      <th></th>\n",
       "      <th>text</th>\n",
       "      <th>generated</th>\n",
       "    </tr>\n",
       "  </thead>\n",
       "  <tbody>\n",
       "    <tr>\n",
       "      <th>0</th>\n",
       "      <td>cars cars have been around since they became f...</td>\n",
       "      <td>0.0</td>\n",
       "    </tr>\n",
       "    <tr>\n",
       "      <th>1</th>\n",
       "      <td>transportation is a large necessity in most co...</td>\n",
       "      <td>0.0</td>\n",
       "    </tr>\n",
       "    <tr>\n",
       "      <th>2</th>\n",
       "      <td>america's love affair with it's vehicles seems...</td>\n",
       "      <td>0.0</td>\n",
       "    </tr>\n",
       "    <tr>\n",
       "      <th>3</th>\n",
       "      <td>how often do you ride in a car? do you drive a...</td>\n",
       "      <td>0.0</td>\n",
       "    </tr>\n",
       "    <tr>\n",
       "      <th>4</th>\n",
       "      <td>cars are a wonderful thing they are perhaps on...</td>\n",
       "      <td>0.0</td>\n",
       "    </tr>\n",
       "  </tbody>\n",
       "</table>\n",
       "</div>"
      ],
      "text/plain": [
       "                                                text  generated\n",
       "0  cars cars have been around since they became f...        0.0\n",
       "1  transportation is a large necessity in most co...        0.0\n",
       "2  america's love affair with it's vehicles seems...        0.0\n",
       "3  how often do you ride in a car? do you drive a...        0.0\n",
       "4  cars are a wonderful thing they are perhaps on...        0.0"
      ]
     },
     "execution_count": 118,
     "metadata": {},
     "output_type": "execute_result"
    }
   ],
   "source": [
    "balanced_data.head()   "
   ]
  },
  {
   "cell_type": "markdown",
   "metadata": {},
   "source": [
    "# Feature Extraction"
   ]
  },
  {
   "cell_type": "code",
   "execution_count": 119,
   "metadata": {
    "execution": {
     "iopub.execute_input": "2024-05-29T17:16:46.256489Z",
     "iopub.status.busy": "2024-05-29T17:16:46.256217Z",
     "iopub.status.idle": "2024-05-29T17:16:46.265982Z",
     "shell.execute_reply": "2024-05-29T17:16:46.265106Z",
     "shell.execute_reply.started": "2024-05-29T17:16:46.256466Z"
    }
   },
   "outputs": [],
   "source": [
    "from nltk.tokenize import word_tokenize\n",
    "from gensim.models import Word2Vec\n"
   ]
  },
  {
   "cell_type": "code",
   "execution_count": 120,
   "metadata": {
    "execution": {
     "iopub.execute_input": "2024-05-29T17:16:46.267424Z",
     "iopub.status.busy": "2024-05-29T17:16:46.267141Z",
     "iopub.status.idle": "2024-05-29T17:19:26.117063Z",
     "shell.execute_reply": "2024-05-29T17:19:26.116208Z",
     "shell.execute_reply.started": "2024-05-29T17:16:46.267390Z"
    }
   },
   "outputs": [
    {
     "name": "stdout",
     "output_type": "stream",
     "text": [
      "[nltk_data] Downloading package punkt to /usr/share/nltk_data...\n",
      "[nltk_data]   Package punkt is already up-to-date!\n"
     ]
    }
   ],
   "source": [
    "nltk.download('punkt')\n",
    "balanced_data['tokens'] = balanced_data['text'].apply(word_tokenize)\n"
   ]
  },
  {
   "cell_type": "code",
   "execution_count": 121,
   "metadata": {
    "execution": {
     "iopub.execute_input": "2024-05-29T17:19:26.118472Z",
     "iopub.status.busy": "2024-05-29T17:19:26.118179Z",
     "iopub.status.idle": "2024-05-29T17:19:26.132123Z",
     "shell.execute_reply": "2024-05-29T17:19:26.131263Z",
     "shell.execute_reply.started": "2024-05-29T17:19:26.118439Z"
    }
   },
   "outputs": [
    {
     "data": {
      "text/html": [
       "<div>\n",
       "<style scoped>\n",
       "    .dataframe tbody tr th:only-of-type {\n",
       "        vertical-align: middle;\n",
       "    }\n",
       "\n",
       "    .dataframe tbody tr th {\n",
       "        vertical-align: top;\n",
       "    }\n",
       "\n",
       "    .dataframe thead th {\n",
       "        text-align: right;\n",
       "    }\n",
       "</style>\n",
       "<table border=\"1\" class=\"dataframe\">\n",
       "  <thead>\n",
       "    <tr style=\"text-align: right;\">\n",
       "      <th></th>\n",
       "      <th>text</th>\n",
       "      <th>generated</th>\n",
       "      <th>tokens</th>\n",
       "    </tr>\n",
       "  </thead>\n",
       "  <tbody>\n",
       "    <tr>\n",
       "      <th>0</th>\n",
       "      <td>cars cars have been around since they became f...</td>\n",
       "      <td>0.0</td>\n",
       "      <td>[cars, cars, have, been, around, since, they, ...</td>\n",
       "    </tr>\n",
       "    <tr>\n",
       "      <th>1</th>\n",
       "      <td>transportation is a large necessity in most co...</td>\n",
       "      <td>0.0</td>\n",
       "      <td>[transportation, is, a, large, necessity, in, ...</td>\n",
       "    </tr>\n",
       "    <tr>\n",
       "      <th>2</th>\n",
       "      <td>america's love affair with it's vehicles seems...</td>\n",
       "      <td>0.0</td>\n",
       "      <td>[america, 's, love, affair, with, it, 's, vehi...</td>\n",
       "    </tr>\n",
       "  </tbody>\n",
       "</table>\n",
       "</div>"
      ],
      "text/plain": [
       "                                                text  generated  \\\n",
       "0  cars cars have been around since they became f...        0.0   \n",
       "1  transportation is a large necessity in most co...        0.0   \n",
       "2  america's love affair with it's vehicles seems...        0.0   \n",
       "\n",
       "                                              tokens  \n",
       "0  [cars, cars, have, been, around, since, they, ...  \n",
       "1  [transportation, is, a, large, necessity, in, ...  \n",
       "2  [america, 's, love, affair, with, it, 's, vehi...  "
      ]
     },
     "execution_count": 121,
     "metadata": {},
     "output_type": "execute_result"
    }
   ],
   "source": [
    "balanced_data.head(3)"
   ]
  },
  {
   "cell_type": "code",
   "execution_count": 122,
   "metadata": {
    "execution": {
     "iopub.execute_input": "2024-05-29T17:19:26.133541Z",
     "iopub.status.busy": "2024-05-29T17:19:26.133223Z",
     "iopub.status.idle": "2024-05-29T17:20:48.917398Z",
     "shell.execute_reply": "2024-05-29T17:20:48.916586Z",
     "shell.execute_reply.started": "2024-05-29T17:19:26.133511Z"
    }
   },
   "outputs": [],
   "source": [
    "model = Word2Vec(sentences=balanced_data['tokens'], vector_size=100, window=5, min_count=1, workers=4)"
   ]
  },
  {
   "cell_type": "code",
   "execution_count": 123,
   "metadata": {
    "execution": {
     "iopub.execute_input": "2024-05-29T17:20:48.919458Z",
     "iopub.status.busy": "2024-05-29T17:20:48.918674Z",
     "iopub.status.idle": "2024-05-29T17:20:48.924967Z",
     "shell.execute_reply": "2024-05-29T17:20:48.924106Z",
     "shell.execute_reply.started": "2024-05-29T17:20:48.919422Z"
    }
   },
   "outputs": [],
   "source": [
    "def get_text_vector(tokens):\n",
    "    valid_tokens = [word for word in tokens if word in model.wv]\n",
    "    if not valid_tokens:\n",
    "        return np.zeros(model.vector_size)\n",
    "    vector = np.mean([model.wv[word] for word in valid_tokens], axis=0)\n",
    "    return vector\n"
   ]
  },
  {
   "cell_type": "code",
   "execution_count": 124,
   "metadata": {
    "execution": {
     "iopub.execute_input": "2024-05-29T17:20:48.926556Z",
     "iopub.status.busy": "2024-05-29T17:20:48.926222Z",
     "iopub.status.idle": "2024-05-29T17:21:57.046813Z",
     "shell.execute_reply": "2024-05-29T17:21:57.045757Z",
     "shell.execute_reply.started": "2024-05-29T17:20:48.926524Z"
    }
   },
   "outputs": [],
   "source": [
    "balanced_data['vector'] = balanced_data['tokens'].apply(get_text_vector)"
   ]
  },
  {
   "cell_type": "code",
   "execution_count": 125,
   "metadata": {
    "execution": {
     "iopub.execute_input": "2024-05-29T17:21:57.048630Z",
     "iopub.status.busy": "2024-05-29T17:21:57.048173Z",
     "iopub.status.idle": "2024-05-29T17:21:57.067302Z",
     "shell.execute_reply": "2024-05-29T17:21:57.066324Z",
     "shell.execute_reply.started": "2024-05-29T17:21:57.048603Z"
    }
   },
   "outputs": [
    {
     "data": {
      "text/html": [
       "<div>\n",
       "<style scoped>\n",
       "    .dataframe tbody tr th:only-of-type {\n",
       "        vertical-align: middle;\n",
       "    }\n",
       "\n",
       "    .dataframe tbody tr th {\n",
       "        vertical-align: top;\n",
       "    }\n",
       "\n",
       "    .dataframe thead th {\n",
       "        text-align: right;\n",
       "    }\n",
       "</style>\n",
       "<table border=\"1\" class=\"dataframe\">\n",
       "  <thead>\n",
       "    <tr style=\"text-align: right;\">\n",
       "      <th></th>\n",
       "      <th>text</th>\n",
       "      <th>generated</th>\n",
       "      <th>tokens</th>\n",
       "      <th>vector</th>\n",
       "    </tr>\n",
       "  </thead>\n",
       "  <tbody>\n",
       "    <tr>\n",
       "      <th>0</th>\n",
       "      <td>cars cars have been around since they became f...</td>\n",
       "      <td>0.0</td>\n",
       "      <td>[cars, cars, have, been, around, since, they, ...</td>\n",
       "      <td>[0.15599182, 0.39820787, 1.0719395, -0.6690539...</td>\n",
       "    </tr>\n",
       "    <tr>\n",
       "      <th>1</th>\n",
       "      <td>transportation is a large necessity in most co...</td>\n",
       "      <td>0.0</td>\n",
       "      <td>[transportation, is, a, large, necessity, in, ...</td>\n",
       "      <td>[0.18057534, 0.6238405, 1.1853102, -0.5631129,...</td>\n",
       "    </tr>\n",
       "    <tr>\n",
       "      <th>2</th>\n",
       "      <td>america's love affair with it's vehicles seems...</td>\n",
       "      <td>0.0</td>\n",
       "      <td>[america, 's, love, affair, with, it, 's, vehi...</td>\n",
       "      <td>[0.22724994, 0.5106203, 0.77144104, -0.4880304...</td>\n",
       "    </tr>\n",
       "  </tbody>\n",
       "</table>\n",
       "</div>"
      ],
      "text/plain": [
       "                                                text  generated  \\\n",
       "0  cars cars have been around since they became f...        0.0   \n",
       "1  transportation is a large necessity in most co...        0.0   \n",
       "2  america's love affair with it's vehicles seems...        0.0   \n",
       "\n",
       "                                              tokens  \\\n",
       "0  [cars, cars, have, been, around, since, they, ...   \n",
       "1  [transportation, is, a, large, necessity, in, ...   \n",
       "2  [america, 's, love, affair, with, it, 's, vehi...   \n",
       "\n",
       "                                              vector  \n",
       "0  [0.15599182, 0.39820787, 1.0719395, -0.6690539...  \n",
       "1  [0.18057534, 0.6238405, 1.1853102, -0.5631129,...  \n",
       "2  [0.22724994, 0.5106203, 0.77144104, -0.4880304...  "
      ]
     },
     "execution_count": 125,
     "metadata": {},
     "output_type": "execute_result"
    }
   ],
   "source": [
    "balanced_data.head(3)"
   ]
  },
  {
   "cell_type": "markdown",
   "metadata": {},
   "source": [
    "# Train Test Split"
   ]
  },
  {
   "cell_type": "code",
   "execution_count": 126,
   "metadata": {
    "execution": {
     "iopub.execute_input": "2024-05-29T17:21:57.068977Z",
     "iopub.status.busy": "2024-05-29T17:21:57.068644Z",
     "iopub.status.idle": "2024-05-29T17:21:57.075963Z",
     "shell.execute_reply": "2024-05-29T17:21:57.075060Z",
     "shell.execute_reply.started": "2024-05-29T17:21:57.068947Z"
    }
   },
   "outputs": [],
   "source": [
    "from sklearn.model_selection import train_test_split\n"
   ]
  },
  {
   "cell_type": "code",
   "execution_count": 127,
   "metadata": {
    "execution": {
     "iopub.execute_input": "2024-05-29T17:21:57.077519Z",
     "iopub.status.busy": "2024-05-29T17:21:57.077150Z",
     "iopub.status.idle": "2024-05-29T17:21:57.087011Z",
     "shell.execute_reply": "2024-05-29T17:21:57.086120Z",
     "shell.execute_reply.started": "2024-05-29T17:21:57.077492Z"
    }
   },
   "outputs": [],
   "source": [
    "X = balanced_data['vector']\n",
    "Y = balanced_data['generated']"
   ]
  },
  {
   "cell_type": "code",
   "execution_count": 128,
   "metadata": {
    "execution": {
     "iopub.execute_input": "2024-05-29T17:21:57.088530Z",
     "iopub.status.busy": "2024-05-29T17:21:57.088192Z",
     "iopub.status.idle": "2024-05-29T17:21:57.102408Z",
     "shell.execute_reply": "2024-05-29T17:21:57.101533Z",
     "shell.execute_reply.started": "2024-05-29T17:21:57.088500Z"
    }
   },
   "outputs": [],
   "source": [
    "train_x, test_x , trian_y, test_y= train_test_split(X,Y, test_size=0.2, random_state=42)\n"
   ]
  },
  {
   "cell_type": "code",
   "execution_count": 129,
   "metadata": {
    "execution": {
     "iopub.execute_input": "2024-05-29T17:21:57.104595Z",
     "iopub.status.busy": "2024-05-29T17:21:57.103799Z",
     "iopub.status.idle": "2024-05-29T17:21:57.165637Z",
     "shell.execute_reply": "2024-05-29T17:21:57.164751Z",
     "shell.execute_reply.started": "2024-05-29T17:21:57.104561Z"
    }
   },
   "outputs": [],
   "source": [
    "train_x=  np.array(train_x.tolist())\n",
    "test_x=  np.array(test_x.tolist())"
   ]
  },
  {
   "cell_type": "code",
   "execution_count": 130,
   "metadata": {
    "execution": {
     "iopub.execute_input": "2024-05-29T17:21:57.170962Z",
     "iopub.status.busy": "2024-05-29T17:21:57.170665Z",
     "iopub.status.idle": "2024-05-29T17:21:57.175797Z",
     "shell.execute_reply": "2024-05-29T17:21:57.174840Z",
     "shell.execute_reply.started": "2024-05-29T17:21:57.170937Z"
    }
   },
   "outputs": [],
   "source": [
    "X_train = train_x.reshape((train_x.shape[0], 1, train_x.shape[1]))\n",
    "X_test = test_x.reshape((test_x.shape[0], 1, test_x.shape[1]))"
   ]
  },
  {
   "cell_type": "code",
   "execution_count": 131,
   "metadata": {
    "execution": {
     "iopub.execute_input": "2024-05-29T17:21:57.177055Z",
     "iopub.status.busy": "2024-05-29T17:21:57.176762Z",
     "iopub.status.idle": "2024-05-29T17:21:57.189032Z",
     "shell.execute_reply": "2024-05-29T17:21:57.188121Z",
     "shell.execute_reply.started": "2024-05-29T17:21:57.177031Z"
    }
   },
   "outputs": [
    {
     "name": "stdout",
     "output_type": "stream",
     "text": [
      "(40000, 1, 100)\n",
      "(10000, 1, 100)\n"
     ]
    }
   ],
   "source": [
    "print(X_train.shape)  \n",
    "print(X_test.shape)   \n"
   ]
  },
  {
   "cell_type": "markdown",
   "metadata": {},
   "source": [
    "# Model Building"
   ]
  },
  {
   "cell_type": "markdown",
   "metadata": {
    "execution": {
     "iopub.execute_input": "2024-05-29T17:14:41.231089Z",
     "iopub.status.busy": "2024-05-29T17:14:41.230572Z",
     "iopub.status.idle": "2024-05-29T17:14:41.235922Z",
     "shell.execute_reply": "2024-05-29T17:14:41.234881Z",
     "shell.execute_reply.started": "2024-05-29T17:14:41.231059Z"
    }
   },
   "source": [
    "## ANN"
   ]
  },
  {
   "cell_type": "code",
   "execution_count": 132,
   "metadata": {
    "execution": {
     "iopub.execute_input": "2024-05-29T17:21:57.191939Z",
     "iopub.status.busy": "2024-05-29T17:21:57.191155Z",
     "iopub.status.idle": "2024-05-29T17:21:57.199559Z",
     "shell.execute_reply": "2024-05-29T17:21:57.198595Z",
     "shell.execute_reply.started": "2024-05-29T17:21:57.191912Z"
    }
   },
   "outputs": [],
   "source": [
    "from keras.models import Sequential\n",
    "from keras.layers import Dense, Dropout\n"
   ]
  },
  {
   "cell_type": "code",
   "execution_count": 133,
   "metadata": {
    "execution": {
     "iopub.execute_input": "2024-05-29T17:21:57.202052Z",
     "iopub.status.busy": "2024-05-29T17:21:57.200802Z",
     "iopub.status.idle": "2024-05-29T17:21:57.265926Z",
     "shell.execute_reply": "2024-05-29T17:21:57.265031Z",
     "shell.execute_reply.started": "2024-05-29T17:21:57.202015Z"
    }
   },
   "outputs": [
    {
     "name": "stderr",
     "output_type": "stream",
     "text": [
      "/opt/conda/lib/python3.10/site-packages/keras/src/layers/core/dense.py:86: UserWarning: Do not pass an `input_shape`/`input_dim` argument to a layer. When using Sequential models, prefer using an `Input(shape)` object as the first layer in the model instead.\n",
      "  super().__init__(activity_regularizer=activity_regularizer, **kwargs)\n"
     ]
    },
    {
     "data": {
      "text/html": [
       "<pre style=\"white-space:pre;overflow-x:auto;line-height:normal;font-family:Menlo,'DejaVu Sans Mono',consolas,'Courier New',monospace\"><span style=\"font-weight: bold\">Model: \"sequential_9\"</span>\n",
       "</pre>\n"
      ],
      "text/plain": [
       "\u001b[1mModel: \"sequential_9\"\u001b[0m\n"
      ]
     },
     "metadata": {},
     "output_type": "display_data"
    },
    {
     "data": {
      "text/html": [
       "<pre style=\"white-space:pre;overflow-x:auto;line-height:normal;font-family:Menlo,'DejaVu Sans Mono',consolas,'Courier New',monospace\">┏━━━━━━━━━━━━━━━━━━━━━━━━━━━━━━━━━┳━━━━━━━━━━━━━━━━━━━━━━━━┳━━━━━━━━━━━━━━━┓\n",
       "┃<span style=\"font-weight: bold\"> Layer (type)                    </span>┃<span style=\"font-weight: bold\"> Output Shape           </span>┃<span style=\"font-weight: bold\">       Param # </span>┃\n",
       "┡━━━━━━━━━━━━━━━━━━━━━━━━━━━━━━━━━╇━━━━━━━━━━━━━━━━━━━━━━━━╇━━━━━━━━━━━━━━━┩\n",
       "│ dense_14 (<span style=\"color: #0087ff; text-decoration-color: #0087ff\">Dense</span>)                │ (<span style=\"color: #00d7ff; text-decoration-color: #00d7ff\">None</span>, <span style=\"color: #00af00; text-decoration-color: #00af00\">1</span>, <span style=\"color: #00af00; text-decoration-color: #00af00\">128</span>)         │        <span style=\"color: #00af00; text-decoration-color: #00af00\">12,928</span> │\n",
       "├─────────────────────────────────┼────────────────────────┼───────────────┤\n",
       "│ dropout_17 (<span style=\"color: #0087ff; text-decoration-color: #0087ff\">Dropout</span>)            │ (<span style=\"color: #00d7ff; text-decoration-color: #00d7ff\">None</span>, <span style=\"color: #00af00; text-decoration-color: #00af00\">1</span>, <span style=\"color: #00af00; text-decoration-color: #00af00\">128</span>)         │             <span style=\"color: #00af00; text-decoration-color: #00af00\">0</span> │\n",
       "├─────────────────────────────────┼────────────────────────┼───────────────┤\n",
       "│ dense_15 (<span style=\"color: #0087ff; text-decoration-color: #0087ff\">Dense</span>)                │ (<span style=\"color: #00d7ff; text-decoration-color: #00d7ff\">None</span>, <span style=\"color: #00af00; text-decoration-color: #00af00\">1</span>, <span style=\"color: #00af00; text-decoration-color: #00af00\">64</span>)          │         <span style=\"color: #00af00; text-decoration-color: #00af00\">8,256</span> │\n",
       "├─────────────────────────────────┼────────────────────────┼───────────────┤\n",
       "│ dropout_18 (<span style=\"color: #0087ff; text-decoration-color: #0087ff\">Dropout</span>)            │ (<span style=\"color: #00d7ff; text-decoration-color: #00d7ff\">None</span>, <span style=\"color: #00af00; text-decoration-color: #00af00\">1</span>, <span style=\"color: #00af00; text-decoration-color: #00af00\">64</span>)          │             <span style=\"color: #00af00; text-decoration-color: #00af00\">0</span> │\n",
       "├─────────────────────────────────┼────────────────────────┼───────────────┤\n",
       "│ dense_16 (<span style=\"color: #0087ff; text-decoration-color: #0087ff\">Dense</span>)                │ (<span style=\"color: #00d7ff; text-decoration-color: #00d7ff\">None</span>, <span style=\"color: #00af00; text-decoration-color: #00af00\">1</span>, <span style=\"color: #00af00; text-decoration-color: #00af00\">1</span>)           │            <span style=\"color: #00af00; text-decoration-color: #00af00\">65</span> │\n",
       "└─────────────────────────────────┴────────────────────────┴───────────────┘\n",
       "</pre>\n"
      ],
      "text/plain": [
       "┏━━━━━━━━━━━━━━━━━━━━━━━━━━━━━━━━━┳━━━━━━━━━━━━━━━━━━━━━━━━┳━━━━━━━━━━━━━━━┓\n",
       "┃\u001b[1m \u001b[0m\u001b[1mLayer (type)                   \u001b[0m\u001b[1m \u001b[0m┃\u001b[1m \u001b[0m\u001b[1mOutput Shape          \u001b[0m\u001b[1m \u001b[0m┃\u001b[1m \u001b[0m\u001b[1m      Param #\u001b[0m\u001b[1m \u001b[0m┃\n",
       "┡━━━━━━━━━━━━━━━━━━━━━━━━━━━━━━━━━╇━━━━━━━━━━━━━━━━━━━━━━━━╇━━━━━━━━━━━━━━━┩\n",
       "│ dense_14 (\u001b[38;5;33mDense\u001b[0m)                │ (\u001b[38;5;45mNone\u001b[0m, \u001b[38;5;34m1\u001b[0m, \u001b[38;5;34m128\u001b[0m)         │        \u001b[38;5;34m12,928\u001b[0m │\n",
       "├─────────────────────────────────┼────────────────────────┼───────────────┤\n",
       "│ dropout_17 (\u001b[38;5;33mDropout\u001b[0m)            │ (\u001b[38;5;45mNone\u001b[0m, \u001b[38;5;34m1\u001b[0m, \u001b[38;5;34m128\u001b[0m)         │             \u001b[38;5;34m0\u001b[0m │\n",
       "├─────────────────────────────────┼────────────────────────┼───────────────┤\n",
       "│ dense_15 (\u001b[38;5;33mDense\u001b[0m)                │ (\u001b[38;5;45mNone\u001b[0m, \u001b[38;5;34m1\u001b[0m, \u001b[38;5;34m64\u001b[0m)          │         \u001b[38;5;34m8,256\u001b[0m │\n",
       "├─────────────────────────────────┼────────────────────────┼───────────────┤\n",
       "│ dropout_18 (\u001b[38;5;33mDropout\u001b[0m)            │ (\u001b[38;5;45mNone\u001b[0m, \u001b[38;5;34m1\u001b[0m, \u001b[38;5;34m64\u001b[0m)          │             \u001b[38;5;34m0\u001b[0m │\n",
       "├─────────────────────────────────┼────────────────────────┼───────────────┤\n",
       "│ dense_16 (\u001b[38;5;33mDense\u001b[0m)                │ (\u001b[38;5;45mNone\u001b[0m, \u001b[38;5;34m1\u001b[0m, \u001b[38;5;34m1\u001b[0m)           │            \u001b[38;5;34m65\u001b[0m │\n",
       "└─────────────────────────────────┴────────────────────────┴───────────────┘\n"
      ]
     },
     "metadata": {},
     "output_type": "display_data"
    },
    {
     "data": {
      "text/html": [
       "<pre style=\"white-space:pre;overflow-x:auto;line-height:normal;font-family:Menlo,'DejaVu Sans Mono',consolas,'Courier New',monospace\"><span style=\"font-weight: bold\"> Total params: </span><span style=\"color: #00af00; text-decoration-color: #00af00\">21,249</span> (83.00 KB)\n",
       "</pre>\n"
      ],
      "text/plain": [
       "\u001b[1m Total params: \u001b[0m\u001b[38;5;34m21,249\u001b[0m (83.00 KB)\n"
      ]
     },
     "metadata": {},
     "output_type": "display_data"
    },
    {
     "data": {
      "text/html": [
       "<pre style=\"white-space:pre;overflow-x:auto;line-height:normal;font-family:Menlo,'DejaVu Sans Mono',consolas,'Courier New',monospace\"><span style=\"font-weight: bold\"> Trainable params: </span><span style=\"color: #00af00; text-decoration-color: #00af00\">21,249</span> (83.00 KB)\n",
       "</pre>\n"
      ],
      "text/plain": [
       "\u001b[1m Trainable params: \u001b[0m\u001b[38;5;34m21,249\u001b[0m (83.00 KB)\n"
      ]
     },
     "metadata": {},
     "output_type": "display_data"
    },
    {
     "data": {
      "text/html": [
       "<pre style=\"white-space:pre;overflow-x:auto;line-height:normal;font-family:Menlo,'DejaVu Sans Mono',consolas,'Courier New',monospace\"><span style=\"font-weight: bold\"> Non-trainable params: </span><span style=\"color: #00af00; text-decoration-color: #00af00\">0</span> (0.00 B)\n",
       "</pre>\n"
      ],
      "text/plain": [
       "\u001b[1m Non-trainable params: \u001b[0m\u001b[38;5;34m0\u001b[0m (0.00 B)\n"
      ]
     },
     "metadata": {},
     "output_type": "display_data"
    }
   ],
   "source": [
    "ann_model = Sequential([\n",
    "    Dense(128, activation='relu', input_shape=(1,100)),\n",
    "    Dropout(0.5),\n",
    "    Dense(64, activation='relu'),\n",
    "    Dropout(0.5),\n",
    "    Dense(1, activation='sigmoid')\n",
    "])\n",
    "\n",
    "ann_model.compile(optimizer='adam', loss='binary_crossentropy', metrics=['accuracy'])\n",
    "ann_model.summary()\n"
   ]
  },
  {
   "cell_type": "code",
   "execution_count": 134,
   "metadata": {
    "execution": {
     "iopub.execute_input": "2024-05-29T17:21:57.267432Z",
     "iopub.status.busy": "2024-05-29T17:21:57.267075Z",
     "iopub.status.idle": "2024-05-29T17:22:27.520950Z",
     "shell.execute_reply": "2024-05-29T17:22:27.520128Z",
     "shell.execute_reply.started": "2024-05-29T17:21:57.267400Z"
    }
   },
   "outputs": [
    {
     "name": "stdout",
     "output_type": "stream",
     "text": [
      "Epoch 1/10\n",
      "\u001b[1m1250/1250\u001b[0m \u001b[32m━━━━━━━━━━━━━━━━━━━━\u001b[0m\u001b[37m\u001b[0m \u001b[1m7s\u001b[0m 3ms/step - accuracy: 0.8894 - loss: 0.2624 - val_accuracy: 0.9698 - val_loss: 0.0851\n",
      "Epoch 2/10\n",
      "\u001b[1m1250/1250\u001b[0m \u001b[32m━━━━━━━━━━━━━━━━━━━━\u001b[0m\u001b[37m\u001b[0m \u001b[1m3s\u001b[0m 2ms/step - accuracy: 0.9649 - loss: 0.1006 - val_accuracy: 0.9779 - val_loss: 0.0650\n",
      "Epoch 3/10\n",
      "\u001b[1m1250/1250\u001b[0m \u001b[32m━━━━━━━━━━━━━━━━━━━━\u001b[0m\u001b[37m\u001b[0m \u001b[1m3s\u001b[0m 2ms/step - accuracy: 0.9710 - loss: 0.0843 - val_accuracy: 0.9765 - val_loss: 0.0656\n",
      "Epoch 4/10\n",
      "\u001b[1m1250/1250\u001b[0m \u001b[32m━━━━━━━━━━━━━━━━━━━━\u001b[0m\u001b[37m\u001b[0m \u001b[1m3s\u001b[0m 2ms/step - accuracy: 0.9739 - loss: 0.0761 - val_accuracy: 0.9798 - val_loss: 0.0571\n",
      "Epoch 5/10\n",
      "\u001b[1m1250/1250\u001b[0m \u001b[32m━━━━━━━━━━━━━━━━━━━━\u001b[0m\u001b[37m\u001b[0m \u001b[1m3s\u001b[0m 2ms/step - accuracy: 0.9753 - loss: 0.0708 - val_accuracy: 0.9775 - val_loss: 0.0609\n",
      "Epoch 6/10\n",
      "\u001b[1m1250/1250\u001b[0m \u001b[32m━━━━━━━━━━━━━━━━━━━━\u001b[0m\u001b[37m\u001b[0m \u001b[1m3s\u001b[0m 2ms/step - accuracy: 0.9784 - loss: 0.0632 - val_accuracy: 0.9832 - val_loss: 0.0502\n",
      "Epoch 7/10\n",
      "\u001b[1m1250/1250\u001b[0m \u001b[32m━━━━━━━━━━━━━━━━━━━━\u001b[0m\u001b[37m\u001b[0m \u001b[1m3s\u001b[0m 2ms/step - accuracy: 0.9795 - loss: 0.0606 - val_accuracy: 0.9839 - val_loss: 0.0461\n",
      "Epoch 8/10\n",
      "\u001b[1m1250/1250\u001b[0m \u001b[32m━━━━━━━━━━━━━━━━━━━━\u001b[0m\u001b[37m\u001b[0m \u001b[1m3s\u001b[0m 2ms/step - accuracy: 0.9816 - loss: 0.0594 - val_accuracy: 0.9838 - val_loss: 0.0448\n",
      "Epoch 9/10\n",
      "\u001b[1m1250/1250\u001b[0m \u001b[32m━━━━━━━━━━━━━━━━━━━━\u001b[0m\u001b[37m\u001b[0m \u001b[1m3s\u001b[0m 2ms/step - accuracy: 0.9802 - loss: 0.0583 - val_accuracy: 0.9839 - val_loss: 0.0453\n",
      "Epoch 10/10\n",
      "\u001b[1m1250/1250\u001b[0m \u001b[32m━━━━━━━━━━━━━━━━━━━━\u001b[0m\u001b[37m\u001b[0m \u001b[1m3s\u001b[0m 2ms/step - accuracy: 0.9823 - loss: 0.0551 - val_accuracy: 0.9856 - val_loss: 0.0403\n"
     ]
    }
   ],
   "source": [
    "ann_history = ann_model.fit(X_train, trian_y, epochs=10, validation_data=(X_test, test_y))"
   ]
  },
  {
   "cell_type": "code",
   "execution_count": 140,
   "metadata": {
    "execution": {
     "iopub.execute_input": "2024-05-29T17:25:18.138152Z",
     "iopub.status.busy": "2024-05-29T17:25:18.137266Z",
     "iopub.status.idle": "2024-05-29T17:25:18.785354Z",
     "shell.execute_reply": "2024-05-29T17:25:18.784422Z",
     "shell.execute_reply.started": "2024-05-29T17:25:18.138117Z"
    }
   },
   "outputs": [
    {
     "data": {
      "image/png": "[encoded data removed]",
      "text/plain": [
       "<Figure size 1200x500 with 2 Axes>"
      ]
     },
     "metadata": {},
     "output_type": "display_data"
    }
   ],
   "source": [
    "plot_graph(ann_history)"
   ]
  },
  {
   "cell_type": "markdown",
   "metadata": {},
   "source": [
    "## LSTM"
   ]
  },
  {
   "cell_type": "code",
   "execution_count": 144,
   "metadata": {
    "execution": {
     "iopub.execute_input": "2024-05-29T17:28:27.741839Z",
     "iopub.status.busy": "2024-05-29T17:28:27.741475Z",
     "iopub.status.idle": "2024-05-29T17:28:27.746436Z",
     "shell.execute_reply": "2024-05-29T17:28:27.745426Z",
     "shell.execute_reply.started": "2024-05-29T17:28:27.741814Z"
    }
   },
   "outputs": [],
   "source": [
    "from tensorflow.keras.layers import Embedding, LSTM, Bidirectional\n"
   ]
  },
  {
   "cell_type": "code",
   "execution_count": 136,
   "metadata": {
    "execution": {
     "iopub.execute_input": "2024-05-29T17:22:27.528863Z",
     "iopub.status.busy": "2024-05-29T17:22:27.528573Z",
     "iopub.status.idle": "2024-05-29T17:22:27.609373Z",
     "shell.execute_reply": "2024-05-29T17:22:27.608507Z",
     "shell.execute_reply.started": "2024-05-29T17:22:27.528839Z"
    }
   },
   "outputs": [
    {
     "name": "stderr",
     "output_type": "stream",
     "text": [
      "/opt/conda/lib/python3.10/site-packages/keras/src/layers/rnn/rnn.py:204: UserWarning: Do not pass an `input_shape`/`input_dim` argument to a layer. When using Sequential models, prefer using an `Input(shape)` object as the first layer in the model instead.\n",
      "  super().__init__(**kwargs)\n"
     ]
    },
    {
     "data": {
      "text/html": [
       "<pre style=\"white-space:pre;overflow-x:auto;line-height:normal;font-family:Menlo,'DejaVu Sans Mono',consolas,'Courier New',monospace\"><span style=\"font-weight: bold\">Model: \"sequential_10\"</span>\n",
       "</pre>\n"
      ],
      "text/plain": [
       "\u001b[1mModel: \"sequential_10\"\u001b[0m\n"
      ]
     },
     "metadata": {},
     "output_type": "display_data"
    },
    {
     "data": {
      "text/html": [
       "<pre style=\"white-space:pre;overflow-x:auto;line-height:normal;font-family:Menlo,'DejaVu Sans Mono',consolas,'Courier New',monospace\">┏━━━━━━━━━━━━━━━━━━━━━━━━━━━━━━━━━┳━━━━━━━━━━━━━━━━━━━━━━━━┳━━━━━━━━━━━━━━━┓\n",
       "┃<span style=\"font-weight: bold\"> Layer (type)                    </span>┃<span style=\"font-weight: bold\"> Output Shape           </span>┃<span style=\"font-weight: bold\">       Param # </span>┃\n",
       "┡━━━━━━━━━━━━━━━━━━━━━━━━━━━━━━━━━╇━━━━━━━━━━━━━━━━━━━━━━━━╇━━━━━━━━━━━━━━━┩\n",
       "│ lstm_12 (<span style=\"color: #0087ff; text-decoration-color: #0087ff\">LSTM</span>)                  │ (<span style=\"color: #00d7ff; text-decoration-color: #00d7ff\">None</span>, <span style=\"color: #00af00; text-decoration-color: #00af00\">1</span>, <span style=\"color: #00af00; text-decoration-color: #00af00\">128</span>)         │       <span style=\"color: #00af00; text-decoration-color: #00af00\">117,248</span> │\n",
       "├─────────────────────────────────┼────────────────────────┼───────────────┤\n",
       "│ dropout_19 (<span style=\"color: #0087ff; text-decoration-color: #0087ff\">Dropout</span>)            │ (<span style=\"color: #00d7ff; text-decoration-color: #00d7ff\">None</span>, <span style=\"color: #00af00; text-decoration-color: #00af00\">1</span>, <span style=\"color: #00af00; text-decoration-color: #00af00\">128</span>)         │             <span style=\"color: #00af00; text-decoration-color: #00af00\">0</span> │\n",
       "├─────────────────────────────────┼────────────────────────┼───────────────┤\n",
       "│ lstm_13 (<span style=\"color: #0087ff; text-decoration-color: #0087ff\">LSTM</span>)                  │ (<span style=\"color: #00d7ff; text-decoration-color: #00d7ff\">None</span>, <span style=\"color: #00af00; text-decoration-color: #00af00\">64</span>)             │        <span style=\"color: #00af00; text-decoration-color: #00af00\">49,408</span> │\n",
       "├─────────────────────────────────┼────────────────────────┼───────────────┤\n",
       "│ dropout_20 (<span style=\"color: #0087ff; text-decoration-color: #0087ff\">Dropout</span>)            │ (<span style=\"color: #00d7ff; text-decoration-color: #00d7ff\">None</span>, <span style=\"color: #00af00; text-decoration-color: #00af00\">64</span>)             │             <span style=\"color: #00af00; text-decoration-color: #00af00\">0</span> │\n",
       "├─────────────────────────────────┼────────────────────────┼───────────────┤\n",
       "│ dense_17 (<span style=\"color: #0087ff; text-decoration-color: #0087ff\">Dense</span>)                │ (<span style=\"color: #00d7ff; text-decoration-color: #00d7ff\">None</span>, <span style=\"color: #00af00; text-decoration-color: #00af00\">1</span>)              │            <span style=\"color: #00af00; text-decoration-color: #00af00\">65</span> │\n",
       "└─────────────────────────────────┴────────────────────────┴───────────────┘\n",
       "</pre>\n"
      ],
      "text/plain": [
       "┏━━━━━━━━━━━━━━━━━━━━━━━━━━━━━━━━━┳━━━━━━━━━━━━━━━━━━━━━━━━┳━━━━━━━━━━━━━━━┓\n",
       "┃\u001b[1m \u001b[0m\u001b[1mLayer (type)                   \u001b[0m\u001b[1m \u001b[0m┃\u001b[1m \u001b[0m\u001b[1mOutput Shape          \u001b[0m\u001b[1m \u001b[0m┃\u001b[1m \u001b[0m\u001b[1m      Param #\u001b[0m\u001b[1m \u001b[0m┃\n",
       "┡━━━━━━━━━━━━━━━━━━━━━━━━━━━━━━━━━╇━━━━━━━━━━━━━━━━━━━━━━━━╇━━━━━━━━━━━━━━━┩\n",
       "│ lstm_12 (\u001b[38;5;33mLSTM\u001b[0m)                  │ (\u001b[38;5;45mNone\u001b[0m, \u001b[38;5;34m1\u001b[0m, \u001b[38;5;34m128\u001b[0m)         │       \u001b[38;5;34m117,248\u001b[0m │\n",
       "├─────────────────────────────────┼────────────────────────┼───────────────┤\n",
       "│ dropout_19 (\u001b[38;5;33mDropout\u001b[0m)            │ (\u001b[38;5;45mNone\u001b[0m, \u001b[38;5;34m1\u001b[0m, \u001b[38;5;34m128\u001b[0m)         │             \u001b[38;5;34m0\u001b[0m │\n",
       "├─────────────────────────────────┼────────────────────────┼───────────────┤\n",
       "│ lstm_13 (\u001b[38;5;33mLSTM\u001b[0m)                  │ (\u001b[38;5;45mNone\u001b[0m, \u001b[38;5;34m64\u001b[0m)             │        \u001b[38;5;34m49,408\u001b[0m │\n",
       "├─────────────────────────────────┼────────────────────────┼───────────────┤\n",
       "│ dropout_20 (\u001b[38;5;33mDropout\u001b[0m)            │ (\u001b[38;5;45mNone\u001b[0m, \u001b[38;5;34m64\u001b[0m)             │             \u001b[38;5;34m0\u001b[0m │\n",
       "├─────────────────────────────────┼────────────────────────┼───────────────┤\n",
       "│ dense_17 (\u001b[38;5;33mDense\u001b[0m)                │ (\u001b[38;5;45mNone\u001b[0m, \u001b[38;5;34m1\u001b[0m)              │            \u001b[38;5;34m65\u001b[0m │\n",
       "└─────────────────────────────────┴────────────────────────┴───────────────┘\n"
      ]
     },
     "metadata": {},
     "output_type": "display_data"
    },
    {
     "data": {
      "text/html": [
       "<pre style=\"white-space:pre;overflow-x:auto;line-height:normal;font-family:Menlo,'DejaVu Sans Mono',consolas,'Courier New',monospace\"><span style=\"font-weight: bold\"> Total params: </span><span style=\"color: #00af00; text-decoration-color: #00af00\">166,721</span> (651.25 KB)\n",
       "</pre>\n"
      ],
      "text/plain": [
       "\u001b[1m Total params: \u001b[0m\u001b[38;5;34m166,721\u001b[0m (651.25 KB)\n"
      ]
     },
     "metadata": {},
     "output_type": "display_data"
    },
    {
     "data": {
      "text/html": [
       "<pre style=\"white-space:pre;overflow-x:auto;line-height:normal;font-family:Menlo,'DejaVu Sans Mono',consolas,'Courier New',monospace\"><span style=\"font-weight: bold\"> Trainable params: </span><span style=\"color: #00af00; text-decoration-color: #00af00\">166,721</span> (651.25 KB)\n",
       "</pre>\n"
      ],
      "text/plain": [
       "\u001b[1m Trainable params: \u001b[0m\u001b[38;5;34m166,721\u001b[0m (651.25 KB)\n"
      ]
     },
     "metadata": {},
     "output_type": "display_data"
    },
    {
     "data": {
      "text/html": [
       "<pre style=\"white-space:pre;overflow-x:auto;line-height:normal;font-family:Menlo,'DejaVu Sans Mono',consolas,'Courier New',monospace\"><span style=\"font-weight: bold\"> Non-trainable params: </span><span style=\"color: #00af00; text-decoration-color: #00af00\">0</span> (0.00 B)\n",
       "</pre>\n"
      ],
      "text/plain": [
       "\u001b[1m Non-trainable params: \u001b[0m\u001b[38;5;34m0\u001b[0m (0.00 B)\n"
      ]
     },
     "metadata": {},
     "output_type": "display_data"
    }
   ],
   "source": [
    "lstm_model = Sequential([\n",
    "    LSTM(128, input_shape=(1, 100), return_sequences=True),\n",
    "    Dropout(0.5),\n",
    "    LSTM(64),\n",
    "    Dropout(0.5),\n",
    "    Dense(1, activation='sigmoid')\n",
    "])\n",
    "\n",
    "lstm_model.compile(optimizer='adam', loss='binary_crossentropy', metrics=['accuracy'])\n",
    "lstm_model.summary()\n"
   ]
  },
  {
   "cell_type": "code",
   "execution_count": 137,
   "metadata": {
    "execution": {
     "iopub.execute_input": "2024-05-29T17:22:27.611038Z",
     "iopub.status.busy": "2024-05-29T17:22:27.610629Z",
     "iopub.status.idle": "2024-05-29T17:23:31.510569Z",
     "shell.execute_reply": "2024-05-29T17:23:31.509644Z",
     "shell.execute_reply.started": "2024-05-29T17:22:27.611006Z"
    }
   },
   "outputs": [
    {
     "name": "stdout",
     "output_type": "stream",
     "text": [
      "Epoch 1/10\n",
      "\u001b[1m1250/1250\u001b[0m \u001b[32m━━━━━━━━━━━━━━━━━━━━\u001b[0m\u001b[37m\u001b[0m \u001b[1m8s\u001b[0m 5ms/step - accuracy: 0.8858 - loss: 0.2589 - val_accuracy: 0.9667 - val_loss: 0.0899\n",
      "Epoch 2/10\n",
      "\u001b[1m1250/1250\u001b[0m \u001b[32m━━━━━━━━━━━━━━━━━━━━\u001b[0m\u001b[37m\u001b[0m \u001b[1m6s\u001b[0m 5ms/step - accuracy: 0.9644 - loss: 0.1003 - val_accuracy: 0.9740 - val_loss: 0.0709\n",
      "Epoch 3/10\n",
      "\u001b[1m1250/1250\u001b[0m \u001b[32m━━━━━━━━━━━━━━━━━━━━\u001b[0m\u001b[37m\u001b[0m \u001b[1m6s\u001b[0m 5ms/step - accuracy: 0.9718 - loss: 0.0785 - val_accuracy: 0.9748 - val_loss: 0.0730\n",
      "Epoch 4/10\n",
      "\u001b[1m1250/1250\u001b[0m \u001b[32m━━━━━━━━━━━━━━━━━━━━\u001b[0m\u001b[37m\u001b[0m \u001b[1m6s\u001b[0m 5ms/step - accuracy: 0.9754 - loss: 0.0657 - val_accuracy: 0.9791 - val_loss: 0.0557\n",
      "Epoch 5/10\n",
      "\u001b[1m1250/1250\u001b[0m \u001b[32m━━━━━━━━━━━━━━━━━━━━\u001b[0m\u001b[37m\u001b[0m \u001b[1m6s\u001b[0m 5ms/step - accuracy: 0.9780 - loss: 0.0630 - val_accuracy: 0.9796 - val_loss: 0.0559\n",
      "Epoch 6/10\n",
      "\u001b[1m1250/1250\u001b[0m \u001b[32m━━━━━━━━━━━━━━━━━━━━\u001b[0m\u001b[37m\u001b[0m \u001b[1m6s\u001b[0m 5ms/step - accuracy: 0.9797 - loss: 0.0578 - val_accuracy: 0.9830 - val_loss: 0.0463\n",
      "Epoch 7/10\n",
      "\u001b[1m1250/1250\u001b[0m \u001b[32m━━━━━━━━━━━━━━━━━━━━\u001b[0m\u001b[37m\u001b[0m \u001b[1m6s\u001b[0m 5ms/step - accuracy: 0.9807 - loss: 0.0543 - val_accuracy: 0.9842 - val_loss: 0.0429\n",
      "Epoch 8/10\n",
      "\u001b[1m1250/1250\u001b[0m \u001b[32m━━━━━━━━━━━━━━━━━━━━\u001b[0m\u001b[37m\u001b[0m \u001b[1m6s\u001b[0m 5ms/step - accuracy: 0.9800 - loss: 0.0550 - val_accuracy: 0.9833 - val_loss: 0.0466\n",
      "Epoch 9/10\n",
      "\u001b[1m1250/1250\u001b[0m \u001b[32m━━━━━━━━━━━━━━━━━━━━\u001b[0m\u001b[37m\u001b[0m \u001b[1m6s\u001b[0m 5ms/step - accuracy: 0.9814 - loss: 0.0521 - val_accuracy: 0.9836 - val_loss: 0.0484\n",
      "Epoch 10/10\n",
      "\u001b[1m1250/1250\u001b[0m \u001b[32m━━━━━━━━━━━━━━━━━━━━\u001b[0m\u001b[37m\u001b[0m \u001b[1m6s\u001b[0m 5ms/step - accuracy: 0.9846 - loss: 0.0454 - val_accuracy: 0.9861 - val_loss: 0.0386\n"
     ]
    }
   ],
   "source": [
    "lstm_history = lstm_model.fit(X_train, trian_y, epochs=10, validation_data=(X_test, test_y))"
   ]
  },
  {
   "cell_type": "code",
   "execution_count": 141,
   "metadata": {
    "execution": {
     "iopub.execute_input": "2024-05-29T17:25:35.618725Z",
     "iopub.status.busy": "2024-05-29T17:25:35.617861Z",
     "iopub.status.idle": "2024-05-29T17:25:36.223678Z",
     "shell.execute_reply": "2024-05-29T17:25:36.222811Z",
     "shell.execute_reply.started": "2024-05-29T17:25:35.618690Z"
    }
   },
   "outputs": [
    {
     "data": {
      "image/png": "[encoded data removed]",
      "text/plain": [
       "<Figure size 1200x500 with 2 Axes>"
      ]
     },
     "metadata": {},
     "output_type": "display_data"
    }
   ],
   "source": [
    "plot_graph(lstm_history)"
   ]
  },
  {
   "cell_type": "markdown",
   "metadata": {},
   "source": [
    "# Model Evaluation"
   ]
  },
  {
   "cell_type": "code",
   "execution_count": 138,
   "metadata": {
    "execution": {
     "iopub.execute_input": "2024-05-29T17:23:31.512614Z",
     "iopub.status.busy": "2024-05-29T17:23:31.512283Z",
     "iopub.status.idle": "2024-05-29T17:23:32.053247Z",
     "shell.execute_reply": "2024-05-29T17:23:32.052315Z",
     "shell.execute_reply.started": "2024-05-29T17:23:31.512585Z"
    }
   },
   "outputs": [
    {
     "name": "stdout",
     "output_type": "stream",
     "text": [
      "\u001b[1m313/313\u001b[0m \u001b[32m━━━━━━━━━━━━━━━━━━━━\u001b[0m\u001b[37m\u001b[0m \u001b[1m0s\u001b[0m 1ms/step - accuracy: 0.9852 - loss: 0.0417\n",
      "ANN Accuracy: 98.56%\n"
     ]
    }
   ],
   "source": [
    "ann_loss, ann_accuracy = ann_model.evaluate(X_test, test_y)\n",
    "\n",
    "print(f\"ANN Accuracy: {ann_accuracy * 100:.2f}%\")\n"
   ]
  },
  {
   "cell_type": "code",
   "execution_count": 139,
   "metadata": {
    "execution": {
     "iopub.execute_input": "2024-05-29T17:23:32.055204Z",
     "iopub.status.busy": "2024-05-29T17:23:32.054677Z",
     "iopub.status.idle": "2024-05-29T17:23:32.824839Z",
     "shell.execute_reply": "2024-05-29T17:23:32.823944Z",
     "shell.execute_reply.started": "2024-05-29T17:23:32.055173Z"
    }
   },
   "outputs": [
    {
     "name": "stdout",
     "output_type": "stream",
     "text": [
      "\u001b[1m313/313\u001b[0m \u001b[32m━━━━━━━━━━━━━━━━━━━━\u001b[0m\u001b[37m\u001b[0m \u001b[1m1s\u001b[0m 2ms/step - accuracy: 0.9860 - loss: 0.0400\n",
      "LSTM Accuracy: 98.61%\n"
     ]
    }
   ],
   "source": [
    "lstm_loss, lstm_accuracy = lstm_model.evaluate(X_test, test_y)\n",
    "\n",
    "print(f\"LSTM Accuracy: {lstm_accuracy * 100:.2f}%\")\n"
   ]
  },
  {
   "cell_type": "markdown",
   "metadata": {},
   "source": [
    "### Project Conclusion\n",
    "\n",
    "#### Overview:\n",
    "The project aimed to classify text into two categories: AI-generated or human-written. Through comprehensive data preprocessing, feature extraction using Word2Vec, and model building, we analyzed the performance of both Artificial Neural Network (ANN) and Long Short-Term Memory (LSTM) models.\n",
    "\n",
    "#### Key Findings:\n",
    "\n",
    "1. **Model Performance:**\n",
    "   - The ANN and LSTM models exhibited commendable performance in classifying text.\n",
    "   - The ANN model achieved an accuracy of approximately 98.56%, while the LSTM model achieved around 98.61% accuracy on the test dataset.\n",
    "\n",
    "2. **Comparative Analysis:**\n",
    "   - The LSTM model displayed a slight advantage over the ANN model in accuracy.\n",
    "   - LSTM models, with their capability to capture long-term dependencies, often perform better on text data.\n",
    "\n",
    "3. **Conclusion:**\n",
    "   - Both ANN and LSTM models proved effective in the task of classifying text.\n",
    "   - Depending on specific requirements and computational resources, either model could be chosen for deployment.\n",
    "   - Notably, transfer learning was not deemed necessary, as the models achieved satisfactory performance without leveraging pre-trained embeddings or models.\n"
   ]
  },
  {
   "cell_type": "code",
   "execution_count": null,
   "metadata": {},
   "outputs": [],
   "source": []
  }
 ],
 "metadata": {
  "kaggle": {
   "accelerator": "nvidiaTeslaT4",
   "dataSources": [
    {
     "datasetId": 4288635,
     "sourceId": 7379779,
     "sourceType": "datasetVersion"
    }
   ],
   "dockerImageVersionId": 30699,
   "isGpuEnabled": true,
   "isInternetEnabled": true,
   "language": "python",
   "sourceType": "notebook"
  },
  "kernelspec": {
   "display_name": "Python 3 (ipykernel)",
   "language": "python",
   "name": "python3"
  },
  "language_info": {
   "codemirror_mode": {
    "name": "ipython",
    "version": 3
   },
   "file_extension": ".py",
   "mimetype": "text/x-python",
   "name": "python",
   "nbconvert_exporter": "python",
   "pygments_lexer": "ipython3",
   "version": "3.11.4"
  }
 },
 "nbformat": 4,
 "nbformat_minor": 4
}
